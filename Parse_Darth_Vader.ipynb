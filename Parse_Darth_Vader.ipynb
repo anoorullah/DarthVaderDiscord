{
  "nbformat": 4,
  "nbformat_minor": 0,
  "metadata": {
    "colab": {
      "name": "Parse_Darth_Vader.ipynb",
      "provenance": [],
      "collapsed_sections": [],
      "authorship_tag": "ABX9TyMMmRbPpgdu84J0lmbzOSDR",
      "include_colab_link": true
    },
    "kernelspec": {
      "name": "python3",
      "display_name": "Python 3"
    },
    "language_info": {
      "name": "python"
    }
  },
  "cells": [
    {
      "cell_type": "markdown",
      "metadata": {
        "id": "view-in-github",
        "colab_type": "text"
      },
      "source": [
        "<a href=\"https://colab.research.google.com/github/anoorullah/DarthVaderDiscord/blob/main/Parse_Darth_Vader.ipynb\" target=\"_parent\"><img src=\"https://colab.research.google.com/assets/colab-badge.svg\" alt=\"Open In Colab\"/></a>"
      ]
    },
    {
      "cell_type": "code",
      "metadata": {
        "colab": {
          "base_uri": "https://localhost:8080/"
        },
        "id": "t-aYWxRzxRSK",
        "outputId": "d288bb1f-1f23-4920-95ea-fdf69cec70e7"
      },
      "source": [
        "from google.colab import drive\n",
        "drive.mount('/content/drive/')"
      ],
      "execution_count": 43,
      "outputs": [
        {
          "output_type": "stream",
          "name": "stdout",
          "text": [
            "Drive already mounted at /content/drive/; to attempt to forcibly remount, call drive.mount(\"/content/drive/\", force_remount=True).\n"
          ]
        }
      ]
    },
    {
      "cell_type": "code",
      "metadata": {
        "id": "hcbeUsdjyAR3"
      },
      "source": [
        "import os # Import operating system interaction library\n",
        "\n",
        "# Open a folder from drive using a directory-style call\n",
        "os.chdir('/content/drive/My Drive/Discord ChatBots')"
      ],
      "execution_count": 46,
      "outputs": []
    },
    {
      "cell_type": "code",
      "metadata": {
        "colab": {
          "base_uri": "https://localhost:8080/"
        },
        "id": "h0ZoByaEyUAF",
        "outputId": "d12e59da-0993-4f44-a0f3-71fa45255a25"
      },
      "source": [
        "!ls # Checks to see if there is anything inside the folder"
      ],
      "execution_count": 47,
      "outputs": [
        {
          "output_type": "stream",
          "name": "stdout",
          "text": [
            " darth_vader.csv\t       'Darth Vader Transcript.txt'\n",
            "'Darth Vader Transcript.gdoc'   Parse_Darth_Vader.ipynb\n"
          ]
        }
      ]
    },
    {
      "cell_type": "code",
      "metadata": {
        "id": "Bc_OSSMOyYCD"
      },
      "source": [
        "import re # Import regular expressions library\n",
        "import pandas as pd # Import pandas library\n",
        "\n",
        "# Defining a pattern which uses a regular expression to specifically identify Vader\n",
        "pattern = r'(^[a-zA-Z\\s]+):(.+)'"
      ],
      "execution_count": 51,
      "outputs": []
    },
    {
      "cell_type": "code",
      "metadata": {
        "id": "1LJAsgcQzLV8"
      },
      "source": [
        "# Define a dictionary to store the data\n",
        "data = {\n",
        "    'name': [],\n",
        "    'line': []\n",
        "}"
      ],
      "execution_count": 52,
      "outputs": []
    },
    {
      "cell_type": "code",
      "metadata": {
        "id": "mojViM8Iz2o8"
      },
      "source": [
        "# Open and read file\n",
        "with open('Darth Vader Transcript.txt', 'rt') as file:\n",
        "  for line in file.readlines(): # For each line in file\n",
        "    match = re.findall(pattern, line) # Find all matches based on pattern defined above\n",
        "    if match: # If there is a match\n",
        "      name, line = match[0] # Grab the line\n",
        "      data['name'].append(name) # Append name to data dictionary\n",
        "      data['line'].append(line) # Append line to data dictionary"
      ],
      "execution_count": 53,
      "outputs": []
    },
    {
      "cell_type": "code",
      "metadata": {
        "id": "9THljvd90ymR"
      },
      "source": [
        "df = pd.DataFrame(data) # Convert dictionary into dataframe"
      ],
      "execution_count": 54,
      "outputs": []
    },
    {
      "cell_type": "code",
      "metadata": {
        "colab": {
          "base_uri": "https://localhost:8080/",
          "height": 204
        },
        "id": "VsvzF0kv08Ga",
        "outputId": "e53a67be-8b11-4197-8d47-f9cce8244f11"
      },
      "source": [
        "# Now inspect the dataframe\n",
        "df.head()"
      ],
      "execution_count": 55,
      "outputs": [
        {
          "output_type": "execute_result",
          "data": {
            "text/html": [
              "<div>\n",
              "<style scoped>\n",
              "    .dataframe tbody tr th:only-of-type {\n",
              "        vertical-align: middle;\n",
              "    }\n",
              "\n",
              "    .dataframe tbody tr th {\n",
              "        vertical-align: top;\n",
              "    }\n",
              "\n",
              "    .dataframe thead th {\n",
              "        text-align: right;\n",
              "    }\n",
              "</style>\n",
              "<table border=\"1\" class=\"dataframe\">\n",
              "  <thead>\n",
              "    <tr style=\"text-align: right;\">\n",
              "      <th></th>\n",
              "      <th>name</th>\n",
              "      <th>line</th>\n",
              "    </tr>\n",
              "  </thead>\n",
              "  <tbody>\n",
              "    <tr>\n",
              "      <th>0</th>\n",
              "      <td>THREEPIO</td>\n",
              "      <td>At last! Where have you been?</td>\n",
              "    </tr>\n",
              "    <tr>\n",
              "      <th>1</th>\n",
              "      <td>THREEPIO</td>\n",
              "      <td>They're heading in this direction. What are w...</td>\n",
              "    </tr>\n",
              "    <tr>\n",
              "      <th>2</th>\n",
              "      <td>THREEPIO</td>\n",
              "      <td>Wait a minute,where are you going?</td>\n",
              "    </tr>\n",
              "    <tr>\n",
              "      <th>3</th>\n",
              "      <td>VADER</td>\n",
              "      <td>Where are those transmissions you intercepted?</td>\n",
              "    </tr>\n",
              "    <tr>\n",
              "      <th>4</th>\n",
              "      <td>VADER</td>\n",
              "      <td>What have you done with those plans?</td>\n",
              "    </tr>\n",
              "  </tbody>\n",
              "</table>\n",
              "</div>"
            ],
            "text/plain": [
              "       name                                               line\n",
              "0  THREEPIO                      At last! Where have you been?\n",
              "1  THREEPIO   They're heading in this direction. What are w...\n",
              "2  THREEPIO                 Wait a minute,where are you going?\n",
              "3     VADER     Where are those transmissions you intercepted?\n",
              "4     VADER               What have you done with those plans?"
            ]
          },
          "metadata": {},
          "execution_count": 55
        }
      ]
    },
    {
      "cell_type": "code",
      "metadata": {
        "colab": {
          "base_uri": "https://localhost:8080/"
        },
        "id": "pwSuc2ZK1OX1",
        "outputId": "aa793699-07c9-40ca-84a2-32fb9bbf65e6"
      },
      "source": [
        "# Count number of lines that belong to Darth Vader\n",
        "sum(df['name'] == 'VADER')"
      ],
      "execution_count": 56,
      "outputs": [
        {
          "output_type": "execute_result",
          "data": {
            "text/plain": [
              "39"
            ]
          },
          "metadata": {},
          "execution_count": 56
        }
      ]
    },
    {
      "cell_type": "code",
      "metadata": {
        "colab": {
          "base_uri": "https://localhost:8080/"
        },
        "id": "qjb7H60p6S3h",
        "outputId": "33bdba25-73a9-4d04-f7f5-1c1cc42380fc"
      },
      "source": [
        "len(df) # Finds length of dataframe"
      ],
      "execution_count": 57,
      "outputs": [
        {
          "output_type": "execute_result",
          "data": {
            "text/plain": [
              "145"
            ]
          },
          "metadata": {},
          "execution_count": 57
        }
      ]
    },
    {
      "cell_type": "code",
      "metadata": {
        "id": "VQC3uEQ76fsJ"
      },
      "source": [
        "df.to_csv('darth_vader_voice.csv', index = False)"
      ],
      "execution_count": 58,
      "outputs": []
    }
  ]
}